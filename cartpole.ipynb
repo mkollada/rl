{
 "cells": [
  {
   "cell_type": "code",
   "execution_count": 1,
   "metadata": {},
   "outputs": [],
   "source": [
    "import sys\n",
    "sys.path.append(\"/Users/mattkollada/openai_gym/pendulum/\")\n",
    "\n",
    "import gym\n",
    "import torch\n",
    "\n",
    "from models import *\n",
    "from gym_util import *\n",
    "from data import *\n",
    "from agent import *"
   ]
  },
  {
   "cell_type": "code",
   "execution_count": 2,
   "metadata": {},
   "outputs": [],
   "source": [
    "from torch.utils.data import DataLoader\n",
    "from sklearn.model_selection import train_test_split"
   ]
  },
  {
   "cell_type": "code",
   "execution_count": 3,
   "metadata": {},
   "outputs": [],
   "source": [
    "env = gym.make( 'CartPole-v1' )\n"
   ]
  },
  {
   "cell_type": "code",
   "execution_count": 4,
   "metadata": {},
   "outputs": [],
   "source": [
    "episodes_per_epoch = 100\n",
    "epochs_per_update = 5\n",
    "rand_prob = 0.1\n",
    "discount_rate = 0.95\n",
    "\n",
    "num_runs = 100\n",
    "num_epochs = 5\n",
    "\n",
    "timesteps_per_run = 500\n",
    "\n",
    "lr=0.001"
   ]
  },
  {
   "cell_type": "code",
   "execution_count": 5,
   "metadata": {},
   "outputs": [],
   "source": [
    "dq_net = FullyConnected( 4, [16,2], dropout=0 )\n",
    "dq_agent = DeepQAgent( env.action_space, env.observation_space, dq_net,\n",
    "                      discount_rate=discount_rate, rand_prob=rand_prob )\n",
    "\n",
    "criterion = nn.MSELoss()\n",
    "optimizer = torch.optim.Adam( dq_agent.prediction_model.parameters(), lr=lr )"
   ]
  },
  {
   "cell_type": "code",
   "execution_count": 6,
   "metadata": {},
   "outputs": [],
   "source": [
    "dq_agent.prediction_model = torch.load( './models/best_model_483.945-avg.pkl' )\n",
    "dq_agent.update_target_model()"
   ]
  },
  {
   "cell_type": "code",
   "execution_count": 7,
   "metadata": {},
   "outputs": [],
   "source": [
    "dq_agent.rand_prob = 0\n",
    "x = run_episode( env, dq_agent, render=True, timesteps=10000 )\n",
    "env.close()"
   ]
  },
  {
   "cell_type": "code",
   "execution_count": 32,
   "metadata": {},
   "outputs": [],
   "source": [
    "max_time_steps = 0"
   ]
  },
  {
   "cell_type": "code",
   "execution_count": 33,
   "metadata": {},
   "outputs": [
    {
     "data": {
      "text/plain": [
       "0.95"
      ]
     },
     "execution_count": 33,
     "metadata": {},
     "output_type": "execute_result"
    }
   ],
   "source": [
    "dq_agent.discount_rate"
   ]
  },
  {
   "cell_type": "code",
   "execution_count": 8,
   "metadata": {},
   "outputs": [
    {
     "name": "stdout",
     "output_type": "stream",
     "text": [
      "Average Timesteps: 490.67\n"
     ]
    },
    {
     "ename": "NameError",
     "evalue": "name 'max_time_steps' is not defined",
     "output_type": "error",
     "traceback": [
      "\u001b[0;31m---------------------------------------------------------------------------\u001b[0m",
      "\u001b[0;31mNameError\u001b[0m                                 Traceback (most recent call last)",
      "\u001b[0;32m<ipython-input-8-cccb31a692ea>\u001b[0m in \u001b[0;36m<module>\u001b[0;34m\u001b[0m\n\u001b[1;32m     13\u001b[0m         \u001b[0mdq_agent\u001b[0m\u001b[0;34m.\u001b[0m\u001b[0mdiscount_rate\u001b[0m \u001b[0;34m=\u001b[0m \u001b[0;36m0.99\u001b[0m\u001b[0;34m\u001b[0m\u001b[0;34m\u001b[0m\u001b[0m\n\u001b[1;32m     14\u001b[0m \u001b[0;34m\u001b[0m\u001b[0m\n\u001b[0;32m---> 15\u001b[0;31m     \u001b[0;32mif\u001b[0m \u001b[0mmax_time_steps\u001b[0m \u001b[0;34m<\u001b[0m \u001b[0mmean_ts\u001b[0m\u001b[0;34m:\u001b[0m\u001b[0;34m\u001b[0m\u001b[0;34m\u001b[0m\u001b[0m\n\u001b[0m\u001b[1;32m     16\u001b[0m         \u001b[0mmax_time_steps\u001b[0m \u001b[0;34m=\u001b[0m \u001b[0mmean_ts\u001b[0m\u001b[0;34m\u001b[0m\u001b[0;34m\u001b[0m\u001b[0m\n\u001b[1;32m     17\u001b[0m         \u001b[0mtorch\u001b[0m\u001b[0;34m.\u001b[0m\u001b[0msave\u001b[0m\u001b[0;34m(\u001b[0m \u001b[0mdq_agent\u001b[0m\u001b[0;34m.\u001b[0m\u001b[0mprediction_model\u001b[0m\u001b[0;34m,\u001b[0m \u001b[0;34mf'./models/best_model_{mean_ts}-avg.pkl'\u001b[0m \u001b[0;34m)\u001b[0m\u001b[0;34m\u001b[0m\u001b[0;34m\u001b[0m\u001b[0m\n",
      "\u001b[0;31mNameError\u001b[0m: name 'max_time_steps' is not defined"
     ]
    }
   ],
   "source": [
    "# dq_agent.rand_prob = 0.1\n",
    "# dq_agent.discount_rate = 0.95\n",
    "\n",
    "test_data = {}\n",
    "for run in range( num_runs ):\n",
    "    cartpole_data = run_n_episodes( env, dq_agent, episodes_per_epoch, timesteps=timesteps_per_run )\n",
    "    mean_ts = np.mean( cartpole_data[ 'timesteps' ] )\n",
    "    print( f'Average Timesteps: { mean_ts }' )\n",
    "    \n",
    "    dq_agent.discount_rate = mean_ts / 25\n",
    "    \n",
    "    if dq_agent.discount_rate > 0.8:\n",
    "        dq_agent.discount_rate = 0.99\n",
    "    \n",
    "    if max_time_steps < mean_ts:\n",
    "        max_time_steps = mean_ts\n",
    "        torch.save( dq_agent.prediction_model, f'./models/best_model_{mean_ts}-avg.pkl' )\n",
    "        print( 'Saved new Model' )\n",
    "    \n",
    "    X, y = prepare_cartpole_data( cartpole_data )\n",
    "    \n",
    "    dataset = CartpoleDataset( X, y )\n",
    "    data_loader = torch.utils.data.DataLoader( dataset, batch_size=256 )\n",
    "    for epoch in range( num_epochs ):\n",
    "        running_loss = 0.0\n",
    "            \n",
    "        \n",
    "        for i, data in enumerate( data_loader ):\n",
    "            # get the inputs; data is a list of [inputs, labels]\n",
    "            inputs, labels = data\n",
    "            inputs = inputs.float()\n",
    "            labels = labels.float()\n",
    "\n",
    "            # zero the parameter gradients\n",
    "            optimizer.zero_grad()\n",
    "\n",
    "            # forward + backward + optimize\n",
    "            outputs =  dq_agent.prediction_model( inputs )\n",
    "            loss = criterion( outputs, labels )\n",
    "            running_loss += loss.detach().numpy()\n",
    "            loss.backward()\n",
    "            optimizer.step()\n",
    "        \n",
    "        print( f'Epoch loss: {running_loss}' )\n",
    "        \n",
    "    if (run+1) % epochs_per_update == 0:\n",
    "        print( 'Updating Target Model' )\n",
    "        dq_agent.update_target_model()\n",
    "    \n",
    "\n",
    "\n",
    "                \n",
    "                \n",
    "\n",
    "print('Finished Training')"
   ]
  },
  {
   "cell_type": "code",
   "execution_count": null,
   "metadata": {},
   "outputs": [],
   "source": [
    "X.shape"
   ]
  },
  {
   "cell_type": "code",
   "execution_count": 51,
   "metadata": {},
   "outputs": [],
   "source": [
    "env.close()"
   ]
  },
  {
   "cell_type": "code",
   "execution_count": 6,
   "metadata": {},
   "outputs": [],
   "source": [
    "dq_agent.prediction_model = torch.load( './models/best_model_483.945-avg.pkl' )\n",
    "dq_agent.update_target_model()"
   ]
  },
  {
   "cell_type": "code",
   "execution_count": 7,
   "metadata": {},
   "outputs": [],
   "source": [
    "dq_agent.rand_prob = 0\n",
    "x = run_episode( env, dq_agent, render=True, timesteps=10000 )\n",
    "env.close()"
   ]
  },
  {
   "cell_type": "code",
   "execution_count": 62,
   "metadata": {},
   "outputs": [
    {
     "data": {
      "text/plain": [
       "(array([[-3.17633990e-02,  3.65274766e-02,  3.59507537e-02,\n",
       "          4.53652801e-02],\n",
       "        [-3.10328495e-02, -1.59091053e-01,  3.68580593e-02,\n",
       "          3.49170719e-01],\n",
       "        [-3.42146705e-02, -3.54717304e-01,  4.38414737e-02,\n",
       "          6.53244612e-01],\n",
       "        [-4.13090166e-02, -1.60232387e-01,  5.69063660e-02,\n",
       "          3.74682817e-01],\n",
       "        [-4.45136643e-02,  3.40370119e-02,  6.44000223e-02,\n",
       "          1.00471867e-01],\n",
       "        [-4.38329241e-02,  2.28179724e-01,  6.64094597e-02,\n",
       "         -1.71218002e-01],\n",
       "        [-3.92693296e-02,  4.22291414e-01,  6.29850996e-02,\n",
       "         -4.42233685e-01],\n",
       "        [-3.08235013e-02,  2.26337367e-01,  5.41404259e-02,\n",
       "         -1.30380073e-01],\n",
       "        [-2.62967540e-02,  3.04833419e-02,  5.15328244e-02,\n",
       "          1.78880016e-01],\n",
       "        [-2.56870872e-02,  2.24831422e-01,  5.51104248e-02,\n",
       "         -9.71111555e-02],\n",
       "        [-2.11904587e-02,  4.19121981e-01,  5.31682017e-02,\n",
       "         -3.71910274e-01],\n",
       "        [-1.28080191e-02,  6.13449872e-01,  4.57299962e-02,\n",
       "         -6.47366117e-01],\n",
       "        [-5.39021669e-04,  8.07905859e-01,  3.27826738e-02,\n",
       "         -9.25305227e-01],\n",
       "        [ 1.56190955e-02,  1.00257007e+00,  1.42765693e-02,\n",
       "         -1.20750828e+00],\n",
       "        [ 3.56704969e-02,  1.19750470e+00, -9.87359621e-03,\n",
       "         -1.49568326e+00],\n",
       "        [ 5.96205910e-02,  1.00250419e+00, -3.97872614e-02,\n",
       "         -1.20609953e+00],\n",
       "        [ 7.96706748e-02,  1.19811705e+00, -6.39092520e-02,\n",
       "         -1.51098098e+00],\n",
       "        [ 1.03633016e-01,  1.00382489e+00, -9.41288715e-02,\n",
       "         -1.23891424e+00],\n",
       "        [ 1.23709514e-01,  8.10029445e-01, -1.18907156e-01,\n",
       "         -9.77140971e-01],\n",
       "        [ 1.39910102e-01,  6.16685349e-01, -1.38449976e-01,\n",
       "         -7.24049050e-01],\n",
       "        [ 1.52243809e-01,  4.23722030e-01, -1.52930957e-01,\n",
       "         -4.77948119e-01],\n",
       "        [ 1.60718250e-01,  2.31052499e-01, -1.62489919e-01,\n",
       "         -2.37103487e-01],\n",
       "        [ 1.65339300e-01,  4.28077818e-01, -1.67231989e-01,\n",
       "         -5.76310594e-01],\n",
       "        [ 1.73900856e-01,  6.25100289e-01, -1.78758201e-01,\n",
       "         -9.16658752e-01]]), array([[1.01309276, 1.01229167],\n",
       "        [1.01846445, 1.        ],\n",
       "        [1.02307475, 1.0049907 ],\n",
       "        [1.01254201, 1.01150835],\n",
       "        [1.00683606, 1.01518905],\n",
       "        [1.        , 1.01211202],\n",
       "        [1.01116323, 1.00914884],\n",
       "        [1.01816273, 1.00456464],\n",
       "        [1.00928211, 1.01773715],\n",
       "        [1.01327658, 1.01243401],\n",
       "        [1.        , 1.01918447],\n",
       "        [1.        , 1.01982713],\n",
       "        [1.        , 1.02506673],\n",
       "        [1.        , 1.02804351],\n",
       "        [1.        , 1.02536178],\n",
       "        [1.        , 1.00791597],\n",
       "        [1.        , 1.02992833],\n",
       "        [1.        , 1.02627397],\n",
       "        [1.        , 1.02524114],\n",
       "        [1.        , 1.02080274],\n",
       "        [1.00348556, 1.0140965 ],\n",
       "        [1.        , 1.01725328],\n",
       "        [1.        , 1.02009702],\n",
       "        [1.        , 1.01982498]]), array([[0.],\n",
       "        [0.],\n",
       "        [1.],\n",
       "        [1.],\n",
       "        [1.],\n",
       "        [1.],\n",
       "        [0.],\n",
       "        [0.],\n",
       "        [1.],\n",
       "        [1.],\n",
       "        [1.],\n",
       "        [1.],\n",
       "        [1.],\n",
       "        [1.],\n",
       "        [0.],\n",
       "        [1.],\n",
       "        [0.],\n",
       "        [0.],\n",
       "        [0.],\n",
       "        [0.],\n",
       "        [0.],\n",
       "        [1.],\n",
       "        [1.],\n",
       "        [1.]]), 24)"
      ]
     },
     "execution_count": 62,
     "metadata": {},
     "output_type": "execute_result"
    }
   ],
   "source": [
    "test_data[ 0 ]"
   ]
  },
  {
   "cell_type": "code",
   "execution_count": null,
   "metadata": {},
   "outputs": [],
   "source": []
  }
 ],
 "metadata": {
  "kernelspec": {
   "display_name": "Python 3",
   "language": "python",
   "name": "python3"
  },
  "language_info": {
   "codemirror_mode": {
    "name": "ipython",
    "version": 3
   },
   "file_extension": ".py",
   "mimetype": "text/x-python",
   "name": "python",
   "nbconvert_exporter": "python",
   "pygments_lexer": "ipython3",
   "version": "3.7.3"
  }
 },
 "nbformat": 4,
 "nbformat_minor": 4
}
